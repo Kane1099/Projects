{
 "cells": [
  {
   "cell_type": "code",
   "execution_count": 46,
   "id": "d51e5945",
   "metadata": {},
   "outputs": [],
   "source": [
    "import numpy as np\n",
    "import pandas as pd\n",
    "from sklearn import preprocessing\n",
    "\n",
    "import pickle\n",
    "import matplotlib.pyplot as plt\n",
    "from scipy import stats\n",
    "import tensorflow as tf\n",
    "import seaborn as sns\n",
    "from pylab import rcParams\n",
    "from sklearn.model_selection import train_test_split\n",
    "from sklearn.linear_model import LogisticRegression\n",
    "from sklearn.metrics import mean_squared_error\n",
    "from sklearn.decomposition import PCA\n",
    "import h5py\n",
    "from tensorflow.keras.models import Model, load_model\n",
    "from tensorflow.keras.layers import Input, Dense, BatchNormalization\n",
    "from tensorflow.keras.callbacks import ModelCheckpoint, EarlyStopping\n",
    "from tensorflow.keras import regularizers\n",
    "\n",
    "sns.set(style='whitegrid', palette='muted', font_scale=1.5)\n",
    "RANDOM_SEED = 42"
   ]
  },
  {
   "cell_type": "code",
   "execution_count": 29,
   "id": "34c5e6b6",
   "metadata": {},
   "outputs": [],
   "source": [
    "pd.set_option('display.max_columns', 100)\n",
    "pd.set_option('display.max_rows', 100)"
   ]
  },
  {
   "cell_type": "code",
   "execution_count": 30,
   "id": "1c3ff289",
   "metadata": {},
   "outputs": [
    {
     "data": {
      "text/plain": [
       "((985262, 42), (196557, 41))"
      ]
     },
     "execution_count": 30,
     "metadata": {},
     "output_type": "execute_result"
    }
   ],
   "source": [
    "kddCupTrain = pd.read_csv('kddCupData/kddCupTrain.csv', header=None)\n",
    "kddCupTest = pd.read_csv('kddCupData/kddCupTest.csv', header=None)\n",
    "kddCupTrain.shape, kddCupTest.shape"
   ]
  },
  {
   "cell_type": "code",
   "execution_count": 31,
   "id": "4c60be2f",
   "metadata": {},
   "outputs": [],
   "source": [
    "kddCupTrain.rename(columns={41:'Class'}, inplace=True)\n",
    "kddCupTrain['Class'] = np.where(kddCupTrain['Class'] == 'normal.', 0, 1)"
   ]
  },
  {
   "cell_type": "code",
   "execution_count": 32,
   "id": "dfbc7ec5",
   "metadata": {},
   "outputs": [
    {
     "name": "stdout",
     "output_type": "stream",
     "text": [
      "                   0             4             5              6         7  \\\n",
      "count  985262.000000  9.852620e+05  9.852620e+05  985262.000000  985262.0   \n",
      "mean      215.078631  1.459258e+03  3.193730e+03       0.000007       0.0   \n",
      "std      1343.633640  1.097984e+05  3.401613e+04       0.002665       0.0   \n",
      "min         0.000000  0.000000e+00  0.000000e+00       0.000000       0.0   \n",
      "50%         0.000000  2.300000e+02  4.060000e+02       0.000000       0.0   \n",
      "max     58329.000000  8.958152e+07  1.173059e+07       1.000000       0.0   \n",
      "\n",
      "                   8              9             10             11  \\\n",
      "count  985262.000000  985262.000000  985262.000000  985262.000000   \n",
      "mean        0.000036       0.048908       0.000097       0.710185   \n",
      "std         0.015897       0.926008       0.013058       0.453677   \n",
      "min         0.000000       0.000000       0.000000       0.000000   \n",
      "50%         0.000000       0.000000       0.000000       1.000000   \n",
      "max        14.000000      77.000000       4.000000       1.000000   \n",
      "\n",
      "                  12             13             14             15  \\\n",
      "count  985262.000000  985262.000000  985262.000000  985262.000000   \n",
      "mean        0.037907       0.000307       0.000182       0.064151   \n",
      "std         8.598590       0.017505       0.017993       8.780379   \n",
      "min         0.000000       0.000000       0.000000       0.000000   \n",
      "50%         0.000000       0.000000       0.000000       0.000000   \n",
      "max      7479.000000       1.000000       2.000000    7468.000000   \n",
      "\n",
      "                  16             17             18        19             20  \\\n",
      "count  985262.000000  985262.000000  985262.000000  985262.0  985262.000000   \n",
      "mean        0.005831       0.000358       0.005066       0.0       0.000002   \n",
      "std         0.275769       0.019032       0.078966       0.0       0.001425   \n",
      "min         0.000000       0.000000       0.000000       0.0       0.000000   \n",
      "50%         0.000000       0.000000       0.000000       0.0       0.000000   \n",
      "max        43.000000       2.000000       9.000000       0.0       1.000000   \n",
      "\n",
      "                  21             22             23             24  \\\n",
      "count  985262.000000  985262.000000  985262.000000  985262.000000   \n",
      "mean        0.003832       8.068459      10.997017       0.001465   \n",
      "std         0.061788      17.657624      21.749492       0.027046   \n",
      "min         0.000000       0.000000       0.000000       0.000000   \n",
      "50%         0.000000       3.000000       4.000000       0.000000   \n",
      "max         1.000000     511.000000     511.000000       1.000000   \n",
      "\n",
      "                  25             26             27             28  \\\n",
      "count  985262.000000  985262.000000  985262.000000  985262.000000   \n",
      "mean        0.001703       0.056104       0.056365       0.985439   \n",
      "std         0.026044       0.229336       0.228108       0.092444   \n",
      "min         0.000000       0.000000       0.000000       0.000000   \n",
      "50%         0.000000       0.000000       0.000000       1.000000   \n",
      "max         1.000000       1.000000       1.000000       1.000000   \n",
      "\n",
      "                  29             30             31             32  \\\n",
      "count  985262.000000  985262.000000  985262.000000  985262.000000   \n",
      "mean        0.018308       0.138990     146.668609     201.430712   \n",
      "std         0.116833       0.285591     104.025332      87.382719   \n",
      "min         0.000000       0.000000       0.000000       0.000000   \n",
      "50%         0.000000       0.000000     155.000000     255.000000   \n",
      "max         1.000000       1.000000     255.000000     255.000000   \n",
      "\n",
      "                  33             34             35             36  \\\n",
      "count  985262.000000  985262.000000  985262.000000  985262.000000   \n",
      "mean        0.845963       0.056712       0.145018       0.031659   \n",
      "std         0.304934       0.181323       0.295592       0.086754   \n",
      "min         0.000000       0.000000       0.000000       0.000000   \n",
      "50%         1.000000       0.000000       0.010000       0.010000   \n",
      "max         1.000000       1.000000       1.000000       1.000000   \n",
      "\n",
      "                  37             38             39             40  \\\n",
      "count  985262.000000  985262.000000  985262.000000  985262.000000   \n",
      "mean        0.002014       0.001037       0.057911       0.056161   \n",
      "std         0.028357       0.015326       0.225341       0.219637   \n",
      "min         0.000000       0.000000       0.000000       0.000000   \n",
      "50%         0.000000       0.000000       0.000000       0.000000   \n",
      "max         1.000000       1.000000       1.000000       1.000000   \n",
      "\n",
      "               Class  \n",
      "count  985262.000000  \n",
      "mean        0.012668  \n",
      "std         0.111836  \n",
      "min         0.000000  \n",
      "50%         0.000000  \n",
      "max         1.000000  \n"
     ]
    }
   ],
   "source": [
    "print(kddCupTrain.describe(percentiles=[]))"
   ]
  },
  {
   "cell_type": "code",
   "execution_count": 33,
   "id": "68455aeb",
   "metadata": {},
   "outputs": [],
   "source": [
    "kddCupTrain = pd.get_dummies(kddCupTrain, columns = kddCupTrain.columns[kddCupTrain.dtypes == 'object'])\n",
    "kddCupTest = pd.get_dummies(kddCupTest, columns = kddCupTest.columns[kddCupTest.dtypes == 'object'])\n",
    "\n",
    "X, y = kddCupTrain.drop('Class', axis=1), kddCupTrain['Class']"
   ]
  },
  {
   "cell_type": "code",
   "execution_count": 34,
   "id": "599f5a5e",
   "metadata": {},
   "outputs": [
    {
     "data": {
      "text/plain": [
       "(Index([             0,              4,              5,              6,\n",
       "                     7,              8,              9,             10,\n",
       "                    11,             12,             13,             14,\n",
       "                    15,             16,             17,             18,\n",
       "                    19,             20,             21,             22,\n",
       "                    23,             24,             25,             26,\n",
       "                    27,             28,             29,             30,\n",
       "                    31,             32,             33,             34,\n",
       "                    35,             36,             37,             38,\n",
       "                    39,             40,       '1_icmp',        '1_tcp',\n",
       "               '1_udp',        '2_IRC',        '2_X11',       '2_auth',\n",
       "               '2_ctf',     '2_domain',   '2_domain_u',      '2_eco_i',\n",
       "             '2_ecr_i',     '2_finger',        '2_ftp',   '2_ftp_data',\n",
       "            '2_gopher',       '2_http',      '2_imap4',       '2_link',\n",
       "               '2_mtp',       '2_name',      '2_ntp_u',      '2_other',\n",
       "             '2_pop_3',    '2_private',      '2_red_i', '2_remote_job',\n",
       "               '2_rje',      '2_shell',       '2_smtp',        '2_ssh',\n",
       "            '2_telnet',     '2_tftp_u',      '2_tim_i',       '2_time',\n",
       "             '2_urh_i',      '2_urp_i',      '2_whois',        '3_OTH',\n",
       "               '3_REJ',       '3_RSTO',       '3_RSTR',         '3_S0',\n",
       "                '3_S1',         '3_S2',         '3_S3',         '3_SF',\n",
       "                '3_SH'],\n",
       "       dtype='object'),\n",
       " Index([        0,         4,         5,         6,         7,         8,\n",
       "                9,        10,        11,        12,\n",
       "        ...\n",
       "        '2_whois',   '3_OTH',   '3_REJ',  '3_RSTO',  '3_RSTR',    '3_S0',\n",
       "           '3_S1',    '3_S2',    '3_S3',    '3_SF'],\n",
       "       dtype='object', length=108))"
      ]
     },
     "execution_count": 34,
     "metadata": {},
     "output_type": "execute_result"
    }
   ],
   "source": [
    "X.columns, kddCupTest.columns"
   ]
  },
  {
   "cell_type": "code",
   "execution_count": 35,
   "id": "e3f64d1a",
   "metadata": {},
   "outputs": [
    {
     "name": "stderr",
     "output_type": "stream",
     "text": [
      "c:\\users\\alex\\appdata\\local\\programs\\python\\python39\\lib\\site-packages\\sklearn\\utils\\validation.py:1688: FutureWarning: Feature names only support names that are all strings. Got feature names with dtypes: ['int', 'str']. An error will be raised in 1.2.\n",
      "  warnings.warn(\n",
      "c:\\users\\alex\\appdata\\local\\programs\\python\\python39\\lib\\site-packages\\sklearn\\utils\\validation.py:1688: FutureWarning: Feature names only support names that are all strings. Got feature names with dtypes: ['int', 'str']. An error will be raised in 1.2.\n",
      "  warnings.warn(\n"
     ]
    },
    {
     "data": {
      "text/plain": [
       "array([[-0.16007246, -0.01133221,  1.231248  , ..., -0.00683303,\n",
       "         0.24648733, -0.00142475],\n",
       "       [-0.16007246, -0.01181491,  0.03922464, ..., -0.00683303,\n",
       "         0.24648733, -0.00142475],\n",
       "       [-0.16007246, -0.01114095, -0.05778821, ..., -0.00683303,\n",
       "         0.24648733, -0.00142475],\n",
       "       ...,\n",
       "       [-0.16007246, -0.01130488,  0.01223743, ..., -0.00683303,\n",
       "         0.24648733, -0.00142475],\n",
       "       [-0.16007246, -0.01129577, -0.05761182, ..., -0.00683303,\n",
       "         0.24648733, -0.00142475],\n",
       "       [-0.16007246, -0.01129577, -0.06160993, ..., -0.00683303,\n",
       "         0.24648733, -0.00142475]])"
      ]
     },
     "execution_count": 35,
     "metadata": {},
     "output_type": "execute_result"
    }
   ],
   "source": [
    "featuresList = X.columns\n",
    "scaler = preprocessing.StandardScaler()\n",
    "scaler.fit(X)\n",
    "X = scaler.transform(X)\n",
    "X"
   ]
  },
  {
   "cell_type": "code",
   "execution_count": 36,
   "id": "36f9bb8b",
   "metadata": {},
   "outputs": [
    {
     "name": "stdout",
     "output_type": "stream",
     "text": [
      "missing_cols:  {'2_tftp_u', '3_SH'}\n"
     ]
    },
    {
     "name": "stderr",
     "output_type": "stream",
     "text": [
      "c:\\users\\alex\\appdata\\local\\programs\\python\\python39\\lib\\site-packages\\sklearn\\utils\\validation.py:1688: FutureWarning: Feature names only support names that are all strings. Got feature names with dtypes: ['int', 'str']. An error will be raised in 1.2.\n",
      "  warnings.warn(\n"
     ]
    }
   ],
   "source": [
    "missing_cols = set(featuresList) - set(kddCupTest.columns)\n",
    "print('missing_cols: ',missing_cols)\n",
    "for c in missing_cols:\n",
    "    kddCupTest[c] = 0\n",
    "kddCupTest = kddCupTest[featuresList].copy()\n",
    "\n",
    "kddCupTest[featuresList] = scaler.transform(kddCupTest[featuresList])"
   ]
  },
  {
   "cell_type": "code",
   "execution_count": 58,
   "id": "9b0afb56",
   "metadata": {},
   "outputs": [],
   "source": [
    "X_train, X_test, y_train, y_test = train_test_split(X, y, test_size=0.2,\n",
    "                                               stratify=y, \n",
    "                                               random_state=RANDOM_SEED)\n",
    "\n",
    "X_trainNorm = X_train[y_train == 0]\n",
    "X_testNorm = X_test[y_test == 0]"
   ]
  },
  {
   "cell_type": "code",
   "execution_count": 51,
   "id": "7d408ff2",
   "metadata": {},
   "outputs": [],
   "source": [
    "pca = PCA(n_components=input_dim).fit(X_trainNorm).explained_variance_ratio_"
   ]
  },
  {
   "cell_type": "code",
   "execution_count": 53,
   "id": "314c9668",
   "metadata": {},
   "outputs": [
    {
     "data": {
      "image/png": "[encoded data removed]",
      "text/plain": [
       "<Figure size 432x288 with 1 Axes>"
      ]
     },
     "metadata": {
      "needs_background": "light"
     },
     "output_type": "display_data"
    }
   ],
   "source": [
    "plt.plot(np.cumsum(pca))\n",
    "plt.xlabel('number of components')\n",
    "plt.ylabel('cumulative explained variance');"
   ]
  },
  {
   "cell_type": "code",
   "execution_count": 54,
   "id": "c2ec04d3",
   "metadata": {},
   "outputs": [],
   "source": [
    "input_dim = X_trainNorm.shape[1]\n",
    "layer1_dim = 60\n",
    "encoder_dim = 40"
   ]
  },
  {
   "cell_type": "code",
   "execution_count": 59,
   "id": "9d323a58",
   "metadata": {},
   "outputs": [],
   "source": [
    "input_layer = Input(shape=(input_dim, ))\n",
    "\n",
    "encoder1 = Dense(layer1_dim, activation=\"tanh\", \n",
    "                activity_regularizer=regularizers.l1(10e-5))(input_layer)\n",
    "encoder2 = Dense(encoder_dim, activation=\"relu\")(encoder1)\n",
    "decoder1 = Dense(layer1_dim, activation='tanh')(encoder2)\n",
    "decoder2 = Dense(input_dim, activation='linear')(decoder1)"
   ]
  },
  {
   "cell_type": "code",
   "execution_count": 60,
   "id": "58c4a44a",
   "metadata": {},
   "outputs": [
    {
     "name": "stdout",
     "output_type": "stream",
     "text": [
      "Model: \"model_1\"\n",
      "_________________________________________________________________\n",
      " Layer (type)                Output Shape              Param #   \n",
      "=================================================================\n",
      " input_2 (InputLayer)        [(None, 85)]              0         \n",
      "                                                                 \n",
      " dense_4 (Dense)             (None, 60)                5160      \n",
      "                                                                 \n",
      " dense_5 (Dense)             (None, 40)                2440      \n",
      "                                                                 \n",
      " dense_6 (Dense)             (None, 60)                2460      \n",
      "                                                                 \n",
      " dense_7 (Dense)             (None, 85)                5185      \n",
      "                                                                 \n",
      "=================================================================\n",
      "Total params: 15,245\n",
      "Trainable params: 15,245\n",
      "Non-trainable params: 0\n",
      "_________________________________________________________________\n"
     ]
    }
   ],
   "source": [
    "autoencoder = Model(inputs=input_layer, outputs=decoder2)\n",
    "autoencoder.summary()"
   ]
  },
  {
   "cell_type": "code",
   "execution_count": 61,
   "id": "a49511e5",
   "metadata": {},
   "outputs": [
    {
     "name": "stdout",
     "output_type": "stream",
     "text": [
      "Epoch 1/100\n",
      "12160/12160 [==============================] - 15s 1ms/step - loss: 0.3072 - val_loss: 0.2604\n",
      "Epoch 2/100\n",
      "12160/12160 [==============================] - 14s 1ms/step - loss: 0.2266 - val_loss: 0.2319\n",
      "Epoch 3/100\n",
      "12160/12160 [==============================] - 20s 2ms/step - loss: 0.2048 - val_loss: 0.2154\n",
      "Epoch 4/100\n",
      "12160/12160 [==============================] - 16s 1ms/step - loss: 0.1936 - val_loss: 0.2092\n",
      "Epoch 5/100\n",
      "12160/12160 [==============================] - 15s 1ms/step - loss: 0.1858 - val_loss: 0.2029\n",
      "Epoch 6/100\n",
      "12160/12160 [==============================] - 17s 1ms/step - loss: 0.1808 - val_loss: 0.1991\n",
      "Epoch 7/100\n",
      "12160/12160 [==============================] - 17s 1ms/step - loss: 0.1769 - val_loss: 0.1972\n",
      "Epoch 8/100\n",
      "12160/12160 [==============================] - 17s 1ms/step - loss: 0.1740 - val_loss: 0.1962\n",
      "Epoch 9/100\n",
      "12160/12160 [==============================] - 18s 1ms/step - loss: 0.1721 - val_loss: 0.2001\n",
      "Epoch 10/100\n",
      "12160/12160 [==============================] - 15s 1ms/step - loss: 0.1697 - val_loss: 0.1946\n",
      "Epoch 11/100\n",
      "12160/12160 [==============================] - 15s 1ms/step - loss: 0.1686 - val_loss: 0.1911\n",
      "Epoch 12/100\n",
      "12160/12160 [==============================] - 18s 2ms/step - loss: 0.1667 - val_loss: 0.1913\n",
      "Epoch 13/100\n",
      "12160/12160 [==============================] - 19s 2ms/step - loss: 0.1649 - val_loss: 0.1922\n",
      "Epoch 14/100\n",
      "12160/12160 [==============================] - 18s 2ms/step - loss: 0.1644 - val_loss: 0.1964\n",
      "Epoch 15/100\n",
      "12160/12160 [==============================] - 14s 1ms/step - loss: 0.1614 - val_loss: 0.1927\n",
      "Epoch 16/100\n",
      "12160/12160 [==============================] - 16s 1ms/step - loss: 0.1594 - val_loss: 0.1843\n",
      "Epoch 17/100\n",
      "12160/12160 [==============================] - 16s 1ms/step - loss: 0.1574 - val_loss: 0.1891\n",
      "Epoch 18/100\n",
      "12160/12160 [==============================] - 14s 1ms/step - loss: 0.1577 - val_loss: 0.1816\n",
      "Epoch 19/100\n",
      "12160/12160 [==============================] - 15s 1ms/step - loss: 0.1549 - val_loss: 0.1828\n",
      "Epoch 20/100\n",
      "12160/12160 [==============================] - 15s 1ms/step - loss: 0.1540 - val_loss: 0.1830\n",
      "Epoch 21/100\n",
      "12160/12160 [==============================] - 14s 1ms/step - loss: 0.1534 - val_loss: 0.1798\n",
      "Epoch 22/100\n",
      "12160/12160 [==============================] - 14s 1ms/step - loss: 0.1514 - val_loss: 0.1780\n",
      "Epoch 23/100\n",
      "12160/12160 [==============================] - 19s 2ms/step - loss: 0.1494 - val_loss: 0.1795\n",
      "Epoch 24/100\n",
      "12160/12160 [==============================] - 18s 1ms/step - loss: 0.1477 - val_loss: 0.1805\n",
      "Epoch 25/100\n",
      "12160/12160 [==============================] - 16s 1ms/step - loss: 0.1465 - val_loss: 0.1775\n",
      "Epoch 26/100\n",
      "12160/12160 [==============================] - 15s 1ms/step - loss: 0.1465 - val_loss: 0.1753\n",
      "Epoch 27/100\n",
      "12160/12160 [==============================] - 14s 1ms/step - loss: 0.1457 - val_loss: 0.1785\n",
      "Epoch 28/100\n",
      "12160/12160 [==============================] - 14s 1ms/step - loss: 0.1427 - val_loss: 0.1726\n",
      "Epoch 29/100\n",
      "12160/12160 [==============================] - 14s 1ms/step - loss: 0.1416 - val_loss: 0.1758\n",
      "Epoch 30/100\n",
      "12160/12160 [==============================] - 14s 1ms/step - loss: 0.1416 - val_loss: 0.1739\n",
      "Epoch 31/100\n",
      "12160/12160 [==============================] - 14s 1ms/step - loss: 0.1416 - val_loss: 0.1721\n",
      "Epoch 32/100\n",
      "12160/12160 [==============================] - 15s 1ms/step - loss: 0.1403 - val_loss: 0.1719\n",
      "Epoch 33/100\n",
      "12160/12160 [==============================] - 15s 1ms/step - loss: 0.1379 - val_loss: 0.1715\n",
      "Epoch 34/100\n",
      "12160/12160 [==============================] - 16s 1ms/step - loss: 0.1366 - val_loss: 0.1703\n",
      "Epoch 35/100\n",
      "12160/12160 [==============================] - 14s 1ms/step - loss: 0.1363 - val_loss: 0.1672\n",
      "Epoch 36/100\n",
      "12160/12160 [==============================] - 15s 1ms/step - loss: 0.1362 - val_loss: 0.1698\n",
      "Epoch 37/100\n",
      "12160/12160 [==============================] - 16s 1ms/step - loss: 0.1332 - val_loss: 0.1695\n",
      "Epoch 38/100\n",
      "12160/12160 [==============================] - 14s 1ms/step - loss: 0.1333 - val_loss: 0.1704\n",
      "Epoch 39/100\n",
      "12160/12160 [==============================] - 15s 1ms/step - loss: 0.1322 - val_loss: 0.1723\n",
      "Epoch 40/100\n",
      "12160/12160 [==============================] - 16s 1ms/step - loss: 0.1309 - val_loss: 0.1666\n",
      "Epoch 41/100\n",
      "12160/12160 [==============================] - 17s 1ms/step - loss: 0.1292 - val_loss: 0.1659\n",
      "Epoch 42/100\n",
      "12160/12160 [==============================] - 15s 1ms/step - loss: 0.1292 - val_loss: 0.1675\n",
      "Epoch 43/100\n",
      "12160/12160 [==============================] - 14s 1ms/step - loss: 0.1279 - val_loss: 0.1662\n",
      "Epoch 44/100\n",
      "12160/12160 [==============================] - 15s 1ms/step - loss: 0.1259 - val_loss: 0.1647\n",
      "Epoch 45/100\n",
      "12160/12160 [==============================] - 15s 1ms/step - loss: 0.1265 - val_loss: 0.1650\n",
      "Epoch 46/100\n",
      "12160/12160 [==============================] - 15s 1ms/step - loss: 0.1254 - val_loss: 0.1660\n",
      "Epoch 47/100\n",
      "12160/12160 [==============================] - 15s 1ms/step - loss: 0.1241 - val_loss: 0.1678\n",
      "Epoch 48/100\n",
      "12160/12160 [==============================] - 15s 1ms/step - loss: 0.1242 - val_loss: 0.1650\n",
      "Epoch 49/100\n",
      "12160/12160 [==============================] - 14s 1ms/step - loss: 0.1221 - val_loss: 0.1675\n"
     ]
    }
   ],
   "source": [
    "nb_epoch = 100\n",
    "batch_size = 64\n",
    "\n",
    "autoencoder.compile(optimizer='adam', \n",
    "                    loss='mean_squared_error')\n",
    "\n",
    "checkpointer = ModelCheckpoint(filepath=\"model.h5\",\n",
    "                               verbose=0,\n",
    "                               save_best_only=True)\n",
    "earlystopping = EarlyStopping(monitor='val_loss', patience=5, verbose=0)\n",
    "history = autoencoder.fit(X_trainNorm, X_trainNorm,\n",
    "                    epochs=nb_epoch,\n",
    "                    batch_size=batch_size,\n",
    "                    shuffle=True,\n",
    "                    validation_data=(X_testNorm, X_testNorm),\n",
    "                    verbose=1,\n",
    "                    callbacks=[checkpointer, earlystopping]).history"
   ]
  },
  {
   "cell_type": "code",
   "execution_count": 62,
   "id": "13eec144",
   "metadata": {},
   "outputs": [],
   "source": [
    "autoencoder = load_model('model.h5')"
   ]
  },
  {
   "cell_type": "code",
   "execution_count": 63,
   "id": "4dd04651",
   "metadata": {},
   "outputs": [
    {
     "data": {
      "image/png": "[encoded data removed]",
      "text/plain": [
       "<Figure size 432x288 with 1 Axes>"
      ]
     },
     "metadata": {
      "needs_background": "light"
     },
     "output_type": "display_data"
    }
   ],
   "source": [
    "plt.plot(history['loss'])\n",
    "plt.plot(history['val_loss'])\n",
    "plt.title('model loss')\n",
    "plt.ylabel('loss')\n",
    "plt.xlabel('epoch')\n",
    "plt.legend(['train', 'test'], loc='upper right');"
   ]
  },
  {
   "cell_type": "code",
   "execution_count": 64,
   "id": "3f282f81",
   "metadata": {},
   "outputs": [
    {
     "data": {
      "text/plain": [
       "((197053, 85), (197053, 85))"
      ]
     },
     "execution_count": 64,
     "metadata": {},
     "output_type": "execute_result"
    }
   ],
   "source": [
    "testPredictions = autoencoder.predict(X_test)\n",
    "X_test.shape,testPredictions.shape"
   ]
  },
  {
   "cell_type": "code",
   "execution_count": 65,
   "id": "113d0eec",
   "metadata": {},
   "outputs": [
    {
     "data": {
      "text/html": [
       "<div>\n",
       "<style scoped>\n",
       "    .dataframe tbody tr th:only-of-type {\n",
       "        vertical-align: middle;\n",
       "    }\n",
       "\n",
       "    .dataframe tbody tr th {\n",
       "        vertical-align: top;\n",
       "    }\n",
       "\n",
       "    .dataframe thead th {\n",
       "        text-align: right;\n",
       "    }\n",
       "</style>\n",
       "<table border=\"1\" class=\"dataframe\">\n",
       "  <thead>\n",
       "    <tr style=\"text-align: right;\">\n",
       "      <th></th>\n",
       "      <th>reconstruction_error</th>\n",
       "      <th>true_class</th>\n",
       "    </tr>\n",
       "  </thead>\n",
       "  <tbody>\n",
       "    <tr>\n",
       "      <th>940543</th>\n",
       "      <td>0.023046</td>\n",
       "      <td>1</td>\n",
       "    </tr>\n",
       "    <tr>\n",
       "      <th>356110</th>\n",
       "      <td>0.003431</td>\n",
       "      <td>0</td>\n",
       "    </tr>\n",
       "    <tr>\n",
       "      <th>540178</th>\n",
       "      <td>0.000496</td>\n",
       "      <td>0</td>\n",
       "    </tr>\n",
       "    <tr>\n",
       "      <th>672514</th>\n",
       "      <td>0.001498</td>\n",
       "      <td>0</td>\n",
       "    </tr>\n",
       "    <tr>\n",
       "      <th>244980</th>\n",
       "      <td>0.000458</td>\n",
       "      <td>0</td>\n",
       "    </tr>\n",
       "  </tbody>\n",
       "</table>\n",
       "</div>"
      ],
      "text/plain": [
       "        reconstruction_error  true_class\n",
       "940543              0.023046           1\n",
       "356110              0.003431           0\n",
       "540178              0.000496           0\n",
       "672514              0.001498           0\n",
       "244980              0.000458           0"
      ]
     },
     "execution_count": 65,
     "metadata": {},
     "output_type": "execute_result"
    }
   ],
   "source": [
    "testMSE = mean_squared_error(X_test.transpose(), testPredictions.transpose(),\n",
    "                              multioutput='raw_values')\n",
    "error_df = pd.DataFrame({'reconstruction_error': testMSE,'true_class': y_test})\n",
    "error_df.head()"
   ]
  },
  {
   "cell_type": "code",
   "execution_count": 66,
   "id": "1075a756",
   "metadata": {},
   "outputs": [
    {
     "data": {
      "image/png": "[encoded data removed]",
      "text/plain": [
       "<Figure size 432x288 with 1 Axes>"
      ]
     },
     "metadata": {
      "needs_background": "light"
     },
     "output_type": "display_data"
    }
   ],
   "source": [
    "fig = plt.figure()\n",
    "ax = fig.add_subplot(111)\n",
    "normal_error_df = error_df[(error_df['true_class']== 0)]\n",
    "# normal_error_df = error_df[(error_df['true_class']== 0) & (error_df['reconstruction_error'] < 10)]\n",
    "ax.hist(normal_error_df.reconstruction_error.values, bins=10);"
   ]
  },
  {
   "cell_type": "code",
   "execution_count": 67,
   "id": "70e65fb8",
   "metadata": {},
   "outputs": [
    {
     "data": {
      "image/png": "[encoded data removed]",
      "text/plain": [
       "<Figure size 432x288 with 1 Axes>"
      ]
     },
     "metadata": {
      "needs_background": "light"
     },
     "output_type": "display_data"
    }
   ],
   "source": [
    "fig = plt.figure()\n",
    "ax = fig.add_subplot(111)\n",
    "fraud_error_df = error_df[error_df['true_class'] == 1]\n",
    "ax.hist(fraud_error_df.reconstruction_error.values, bins=10);"
   ]
  },
  {
   "cell_type": "code",
   "execution_count": 68,
   "id": "570a9c71",
   "metadata": {},
   "outputs": [
    {
     "data": {
      "image/png": "[encoded data removed]",
      "text/plain": [
       "<Figure size 432x288 with 1 Axes>"
      ]
     },
     "metadata": {
      "needs_background": "light"
     },
     "output_type": "display_data"
    }
   ],
   "source": [
    "from sklearn.metrics import (confusion_matrix, auc, roc_curve, cohen_kappa_score, accuracy_score)\n",
    "\n",
    "fpr, tpr, thresholds = roc_curve(error_df.true_class, error_df.reconstruction_error)\n",
    "roc_auc = auc(fpr, tpr)\n",
    "\n",
    "plt.title('Receiver Operating Characteristic')\n",
    "plt.plot(fpr, tpr, label='AUC = %0.4f'% roc_auc)\n",
    "plt.legend(loc='lower right')\n",
    "plt.plot([0,1],[0,1],'r--')\n",
    "plt.xlim([-0.001, 1])\n",
    "plt.ylim([0, 1.001])\n",
    "plt.ylabel('True Positive Rate')\n",
    "plt.xlabel('False Positive Rate')\n",
    "plt.show();"
   ]
  },
  {
   "cell_type": "code",
   "execution_count": 69,
   "id": "f0ef740a",
   "metadata": {},
   "outputs": [
    {
     "data": {
      "text/plain": [
       "0.27432233990321503"
      ]
     },
     "execution_count": 69,
     "metadata": {},
     "output_type": "execute_result"
    }
   ],
   "source": [
    "threshold = normal_error_df.reconstruction_error.quantile(q=0.995)\n",
    "threshold"
   ]
  },
  {
   "cell_type": "code",
   "execution_count": 70,
   "id": "06ee345c",
   "metadata": {},
   "outputs": [
    {
     "data": {
      "image/png": "[encoded data removed]",
      "text/plain": [
       "<Figure size 432x288 with 1 Axes>"
      ]
     },
     "metadata": {
      "needs_background": "light"
     },
     "output_type": "display_data"
    }
   ],
   "source": [
    "groups = error_df.groupby('true_class')\n",
    "fig, ax = plt.subplots()\n",
    "for name, group in groups:\n",
    "    if name == 1:\n",
    "        MarkerSize = 7\n",
    "        Color = 'orangered'\n",
    "        Label = 'Fraud'\n",
    "        Marker = 'd'\n",
    "    else:\n",
    "        MarkerSize = 3.5\n",
    "        Color = 'b'\n",
    "        Label = 'Normal'\n",
    "        Marker = 'o'\n",
    "    ax.plot(group.index, group.reconstruction_error, \n",
    "            linestyle='',\n",
    "            color=Color,\n",
    "            label=Label,\n",
    "            ms=MarkerSize,\n",
    "            marker=Marker)\n",
    "ax.hlines(threshold, ax.get_xlim()[0], ax.get_xlim()[1], colors=\"r\", zorder=100, label='Threshold')\n",
    "ax.legend(loc='upper left', bbox_to_anchor=(0.95, 1))\n",
    "plt.title(\"Probabilities of fraud for different classes\")\n",
    "plt.ylabel(\"Reconstruction error\")\n",
    "plt.xlabel(\"Data point index\")\n",
    "plt.show();"
   ]
  },
  {
   "cell_type": "code",
   "execution_count": 71,
   "id": "dd5b7f1b",
   "metadata": {},
   "outputs": [
    {
     "data": {
      "image/png": "[encoded data removed]",
      "text/plain": [
       "<Figure size 864x864 with 2 Axes>"
      ]
     },
     "metadata": {
      "needs_background": "light"
     },
     "output_type": "display_data"
    }
   ],
   "source": [
    "y_pred = [1 if e > threshold else 0 for e in error_df.reconstruction_error.values]\n",
    "conf_matrix = confusion_matrix(error_df.true_class, y_pred)\n",
    "\n",
    "plt.figure(figsize=(12, 12))\n",
    "sns.heatmap(conf_matrix, annot=True, fmt=\"d\");\n",
    "plt.title(\"Confusion matrix\")\n",
    "plt.ylabel('True class')\n",
    "plt.xlabel('Predicted class')\n",
    "plt.show()"
   ]
  },
  {
   "cell_type": "code",
   "execution_count": 74,
   "id": "1cfd7fa8",
   "metadata": {},
   "outputs": [
    {
     "data": {
      "text/html": [
       "<div>\n",
       "<style scoped>\n",
       "    .dataframe tbody tr th:only-of-type {\n",
       "        vertical-align: middle;\n",
       "    }\n",
       "\n",
       "    .dataframe tbody tr th {\n",
       "        vertical-align: top;\n",
       "    }\n",
       "\n",
       "    .dataframe thead th {\n",
       "        text-align: right;\n",
       "    }\n",
       "</style>\n",
       "<table border=\"1\" class=\"dataframe\">\n",
       "  <thead>\n",
       "    <tr style=\"text-align: right;\">\n",
       "      <th></th>\n",
       "      <th>reconstruction_error</th>\n",
       "    </tr>\n",
       "  </thead>\n",
       "  <tbody>\n",
       "    <tr>\n",
       "      <th>0</th>\n",
       "      <td>0.001085</td>\n",
       "    </tr>\n",
       "    <tr>\n",
       "      <th>1</th>\n",
       "      <td>0.001292</td>\n",
       "    </tr>\n",
       "    <tr>\n",
       "      <th>2</th>\n",
       "      <td>0.001297</td>\n",
       "    </tr>\n",
       "    <tr>\n",
       "      <th>3</th>\n",
       "      <td>0.000912</td>\n",
       "    </tr>\n",
       "    <tr>\n",
       "      <th>4</th>\n",
       "      <td>0.004405</td>\n",
       "    </tr>\n",
       "    <tr>\n",
       "      <th>...</th>\n",
       "      <td>...</td>\n",
       "    </tr>\n",
       "    <tr>\n",
       "      <th>196552</th>\n",
       "      <td>0.002909</td>\n",
       "    </tr>\n",
       "    <tr>\n",
       "      <th>196553</th>\n",
       "      <td>0.003007</td>\n",
       "    </tr>\n",
       "    <tr>\n",
       "      <th>196554</th>\n",
       "      <td>0.000867</td>\n",
       "    </tr>\n",
       "    <tr>\n",
       "      <th>196555</th>\n",
       "      <td>0.001289</td>\n",
       "    </tr>\n",
       "    <tr>\n",
       "      <th>196556</th>\n",
       "      <td>0.000522</td>\n",
       "    </tr>\n",
       "  </tbody>\n",
       "</table>\n",
       "<p>196557 rows × 1 columns</p>\n",
       "</div>"
      ],
      "text/plain": [
       "        reconstruction_error\n",
       "0                   0.001085\n",
       "1                   0.001292\n",
       "2                   0.001297\n",
       "3                   0.000912\n",
       "4                   0.004405\n",
       "...                      ...\n",
       "196552              0.002909\n",
       "196553              0.003007\n",
       "196554              0.000867\n",
       "196555              0.001289\n",
       "196556              0.000522\n",
       "\n",
       "[196557 rows x 1 columns]"
      ]
     },
     "execution_count": 74,
     "metadata": {},
     "output_type": "execute_result"
    }
   ],
   "source": [
    "subPredictions = autoencoder.predict(kddCupTest)\n",
    "subMSE = mean_squared_error(kddCupTest.transpose(), subPredictions.transpose(),\n",
    "                            multioutput='raw_values')\n",
    "result_df = pd.DataFrame({'reconstruction_error': subMSE})\n",
    "result_df"
   ]
  },
  {
   "cell_type": "code",
   "execution_count": 75,
   "id": "e1d6c88c",
   "metadata": {},
   "outputs": [],
   "source": [
    "result_df.to_csv('filename.csv')"
   ]
  }
 ],
 "metadata": {
  "kernelspec": {
   "display_name": "Python 3 (ipykernel)",
   "language": "python",
   "name": "python3"
  },
  "language_info": {
   "codemirror_mode": {
    "name": "ipython",
    "version": 3
   },
   "file_extension": ".py",
   "mimetype": "text/x-python",
   "name": "python",
   "nbconvert_exporter": "python",
   "pygments_lexer": "ipython3",
   "version": "3.9.6"
  }
 },
 "nbformat": 4,
 "nbformat_minor": 5
}
